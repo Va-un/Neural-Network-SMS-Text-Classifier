{
  "cells": [
    {
      "cell_type": "code",
      "execution_count": null,
      "metadata": {
        "id": "8RZOuS9LWQvv"
      },
      "outputs": [],
      "source": [
        "# import libraries\n",
        "try:\n",
        "  # %tensorflow_version only exists in Colab.\n",
        "  !pip install tf-nightly\n",
        "except Exception:\n",
        "  pass\n",
        "import tensorflow as tf\n",
        "import pandas as pd\n",
        "from tensorflow import keras\n",
        "!pip install tensorflow-datasets\n",
        "import tensorflow_datasets as tfds\n",
        "import numpy as np\n",
        "import matplotlib.pyplot as plt\n",
        "\n",
        "print(tf.__version__)"
      ]
    },
    {
      "cell_type": "code",
      "source": [
        "!pip install tensorflow_text"
      ],
      "metadata": {
        "id": "xOB1m2iKCFYD"
      },
      "execution_count": null,
      "outputs": []
    },
    {
      "cell_type": "code",
      "source": [
        "import tensorflow as tf\n",
        "import tensorflow_hub as hub\n",
        "import tensorflow_text as text"
      ],
      "metadata": {
        "id": "I6__mEf-CCnb"
      },
      "execution_count": null,
      "outputs": []
    },
    {
      "cell_type": "code",
      "execution_count": null,
      "metadata": {
        "id": "lMHwYXHXCar3"
      },
      "outputs": [],
      "source": [
        "# get data files\n",
        "!wget https://cdn.freecodecamp.org/project-data/sms/train-data.tsv\n",
        "!wget https://cdn.freecodecamp.org/project-data/sms/valid-data.tsv\n",
        "\n",
        "train_file_path = \"train-data.tsv\"\n",
        "test_file_path = \"valid-data.tsv\""
      ]
    },
    {
      "cell_type": "code",
      "execution_count": null,
      "metadata": {
        "id": "g_h508FEClxO"
      },
      "outputs": [],
      "source": [
        "\n",
        "import pandas as pd\n",
        "\n",
        "column_names = ['Target', 'Text']\n",
        "interviews_df = pd.read_csv(train_file_path, sep='\\t',names=column_names)\n",
        "\n",
        "df = interviews_df.copy()\n",
        "df"
      ]
    },
    {
      "cell_type": "code",
      "source": [
        "df.groupby('Target').describe()"
      ],
      "metadata": {
        "id": "DXwledJj7vIL"
      },
      "execution_count": null,
      "outputs": []
    },
    {
      "cell_type": "markdown",
      "source": [
        "Here we can see that tere is a class imbalance."
      ],
      "metadata": {
        "id": "igRlC1Fz-cSP"
      }
    },
    {
      "cell_type": "code",
      "source": [
        "df_spam  = df[df.Target == \"spam\"]\n",
        "print(df_spam.shape)\n"
      ],
      "metadata": {
        "id": "d0kl56UB-kU1"
      },
      "execution_count": null,
      "outputs": []
    },
    {
      "cell_type": "code",
      "source": [
        "df_ham  = df[df.Target == \"ham\"]\n",
        "print(\"Before down sampleing:\")\n",
        "print(df_ham.shape)\n",
        "print(\"After down sampleing:\")\n",
        "df_ham = df_ham.sample(df_spam.shape[0])\n",
        "print(df_ham.shape)"
      ],
      "metadata": {
        "id": "gM2iatWF-kmI"
      },
      "execution_count": null,
      "outputs": []
    },
    {
      "cell_type": "markdown",
      "source": [
        "Sampling down so that it can work better ie same abount of data they both have"
      ],
      "metadata": {
        "id": "VYhaqP7k_pzR"
      }
    },
    {
      "cell_type": "code",
      "source": [
        "df_balanced = pd.concat([df_spam,df_ham])\n",
        "df_balanced.Target.value_counts() #Balanced dataset"
      ],
      "metadata": {
        "id": "jj4K_1lg_yqI"
      },
      "execution_count": null,
      "outputs": []
    },
    {
      "cell_type": "code",
      "source": [
        "df_balanced.Target = df_balanced.Target.map({'spam':1 , 'ham':0})\n",
        "df_balanced"
      ],
      "metadata": {
        "id": "M-H0EBUl_ynU"
      },
      "execution_count": null,
      "outputs": []
    },
    {
      "cell_type": "code",
      "source": [
        "y = df_balanced.Target\n",
        "X = df_balanced.Text"
      ],
      "metadata": {
        "id": "MHAXdjN4BZLN"
      },
      "execution_count": null,
      "outputs": []
    },
    {
      "cell_type": "code",
      "source": [
        "import numpy as np\n",
        "from sklearn.model_selection import train_test_split\n",
        "X_train, X_test, y_train, y_test = train_test_split(X, y, test_size=0.33, random_state=42,stratify = df_balanced.Target)"
      ],
      "metadata": {
        "id": "rYrVt3wU_ykr"
      },
      "execution_count": null,
      "outputs": []
    },
    {
      "cell_type": "code",
      "source": [
        "bert_preprocess = hub.KerasLayer(\"https://tfhub.dev/tensorflow/bert_en_uncased_preprocess/3\")\n",
        "bert_encoder = hub.KerasLayer(\"https://tfhub.dev/tensorflow/bert_en_uncased_L-12_H-768_A-12/4\")"
      ],
      "metadata": {
        "id": "0jZWkXVf_yh4"
      },
      "execution_count": null,
      "outputs": []
    },
    {
      "cell_type": "code",
      "source": [
        "def preprocessed_text(pred_text):\n",
        "  preprocessed_text = bert_preprocess(pred_text)\n",
        "  prediction = bert_encoder(preprocessed_text)['pooled_output']\n",
        "\n",
        "\n",
        "  return (prediction)\n"
      ],
      "metadata": {
        "id": "thoX5CYK_yeY"
      },
      "execution_count": null,
      "outputs": []
    },
    {
      "cell_type": "code",
      "source": [
        "#bert Layers\n",
        "text_input = tf.keras.layers.Input(shape=(),dtype= tf.string,name=\"text\")\n",
        "preprocessed_text = bert_preprocess(text_input)\n",
        "outputs = bert_encoder(preprocessed_text)\n",
        "\n",
        "#Neural Network Layer\n",
        "M = tf.keras.layers.Dropout(0.1,name = \"Dropout\")(outputs['pooled_output'])\n",
        "J = tf.keras.layers.Dense(16,activation = 'sigmoid', name = 'middle')(M)\n",
        "L = tf.keras.layers.Dense(1,activation = 'sigmoid', name = 'output')(J)\n",
        "\n",
        "\n",
        "model = tf.keras.Model(inputs = [text_input], outputs = [L])"
      ],
      "metadata": {
        "id": "Alw9brjy_yaS"
      },
      "execution_count": null,
      "outputs": []
    },
    {
      "cell_type": "code",
      "source": [
        "model.summary()"
      ],
      "metadata": {
        "id": "It_QsgfYLye1"
      },
      "execution_count": null,
      "outputs": []
    },
    {
      "cell_type": "code",
      "source": [
        "Metric = [\n",
        "    tf.keras.metrics.BinaryAccuracy(name = 'accuracy'),\n",
        "    tf.keras.metrics.Precision(name = 'precision'),\n",
        "    tf.keras.metrics.Recall(name='recall')\n",
        "\n",
        "\n",
        "]\n",
        "model.compile(optimizer = 'adam',loss = 'binary_crossentropy',metrics = Metric )"
      ],
      "metadata": {
        "id": "0RXBmdFCLycX"
      },
      "execution_count": null,
      "outputs": []
    },
    {
      "cell_type": "code",
      "source": [
        "model.fit(X_train,y_train,epochs = 10)"
      ],
      "metadata": {
        "id": "LH5cMJ14LyZn"
      },
      "execution_count": null,
      "outputs": []
    },
    {
      "cell_type": "code",
      "source": [
        "model.evaluate(X_test, y_test)"
      ],
      "metadata": {
        "id": "16_yGb5CLyW2"
      },
      "execution_count": null,
      "outputs": []
    },
    {
      "cell_type": "code",
      "source": [
        "y_predicted = model.predict(X_test)\n",
        "y_predicted = y_predicted.flatten()\n",
        "\n",
        "y_predicted = np.where(y_predicted > 0.7, 1, 0)"
      ],
      "metadata": {
        "id": "GUM1QlLyLyUI"
      },
      "execution_count": null,
      "outputs": []
    },
    {
      "cell_type": "code",
      "source": [
        "test_messages = [\"how are you doing today\",\n",
        "                   \"sale today! to stop texts call 98912460324\",\n",
        "                   \"i dont want to go. can we try it a different day? available sat\",\n",
        "                   \"our new mobile video service is live. just install on your phone to start watching.\",\n",
        "                   \"you have won £1000 cash! call to claim your prize.\",\n",
        "                   \"i'll bring it tomorrow. don't forget the milk.\",\n",
        "                   \"wow, is your arm alright. that happened to me one time too\"\n",
        "                  ]\n",
        "y_predicted = model.predict( test_messages)\n",
        "\n",
        "y_predicted = y_predicted.flatten()\n",
        "print(y_predicted)\n",
        "y_predicted = np.where(y_predicted > 0.5, 1, 0)\n",
        "print(y_predicted)"
      ],
      "metadata": {
        "id": "sQjxELdvOkGu"
      },
      "execution_count": null,
      "outputs": []
    },
    {
      "cell_type": "code",
      "source": [
        "from sklearn.metrics import confusion_matrix, classification_report\n",
        "\n",
        "cm = confusion_matrix(y_test, y_predicted)\n",
        "cm"
      ],
      "metadata": {
        "id": "unUyvVAaOkBe"
      },
      "execution_count": null,
      "outputs": []
    },
    {
      "cell_type": "code",
      "source": [
        "from matplotlib import pyplot as plt\n",
        "import seaborn as sn\n",
        "sn.heatmap(cm, annot=True, fmt='d')\n",
        "plt.xlabel('Predicted')\n",
        "plt.ylabel('Truth')"
      ],
      "metadata": {
        "id": "CSaKOp05Oj-2"
      },
      "execution_count": null,
      "outputs": []
    },
    {
      "cell_type": "code",
      "source": [
        "print(classification_report(y_test, y_predicted))"
      ],
      "metadata": {
        "id": "bbo-9h4ROj8E"
      },
      "execution_count": null,
      "outputs": []
    },
    {
      "cell_type": "code",
      "execution_count": null,
      "metadata": {
        "id": "J9tD9yACG6M9"
      },
      "outputs": [],
      "source": [
        "# function to predict messages based on model\n",
        "# (should return list containing prediction and label, ex. [0.008318834938108921, 'ham'])\n",
        "def predict_message(pred_text):\n",
        "  hello = {}\n",
        "  y_predicted = model.predict( test_messages)\n",
        "\n",
        "  y_predicted = y_predicted.flatten()\n",
        "  y_predicted = np.where(y_predicted > 0.3, 'spam', 'ham')\n",
        "\n",
        "  return y_predicted"
      ]
    },
    {
      "cell_type": "code",
      "execution_count": null,
      "metadata": {
        "id": "Dxotov85SjsC"
      },
      "outputs": [],
      "source": [
        "# Run this cell to test your function and model. Do not modify contents.\n",
        "def test_predictions():\n",
        "  test_messages = [\"how are you doing today\",\n",
        "                   \"sale today! to stop texts call 98912460324\",\n",
        "                   \"i dont want to go. can we try it a different day? available sat\",\n",
        "                   \"our new mobile video service is live. just install on your phone to start watching.\",\n",
        "                   \"you have won £1000 cash! call to claim your prize.\",\n",
        "                   \"i'll bring it tomorrow. don't forget the milk.\",\n",
        "                   \"wow, is your arm alright. that happened to me one time too\"\n",
        "                  ]\n",
        "\n",
        "  test_answers = [\"ham\", \"spam\", \"ham\", \"spam\", \"spam\", \"ham\", \"ham\"]\n",
        "  passed = True\n",
        "  i = 0\n",
        "  for msg, ans in zip(test_messages, test_answers):\n",
        "    prediction = predict_message(msg)\n",
        "    if prediction[i] != ans:\n",
        "      passed = False\n",
        "    i = i+1\n",
        "\n",
        "  if passed:\n",
        "    print(\"You passed the challenge. Great job!\")\n",
        "  else:\n",
        "    print(\"You haven't passed yet. Keep trying.\")\n",
        "\n",
        "test_predictions()\n"
      ]
    }
  ],
  "metadata": {
    "colab": {
      "private_outputs": true,
      "provenance": [],
      "gpuType": "T4"
    },
    "kernelspec": {
      "display_name": "Python 3",
      "name": "python3"
    },
    "language_info": {},
    "accelerator": "GPU"
  },
  "nbformat": 4,
  "nbformat_minor": 0
}